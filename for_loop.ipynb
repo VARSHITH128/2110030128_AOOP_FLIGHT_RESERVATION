{
  "nbformat": 4,
  "nbformat_minor": 0,
  "metadata": {
    "colab": {
      "name": "for loop.ipynb",
      "provenance": [],
      "authorship_tag": "ABX9TyM+3mDfO5M2/O8i+4+s2/jW",
      "include_colab_link": true
    },
    "kernelspec": {
      "name": "python3",
      "display_name": "Python 3"
    },
    "language_info": {
      "name": "python"
    }
  },
  "cells": [
    {
      "cell_type": "markdown",
      "metadata": {
        "id": "view-in-github",
        "colab_type": "text"
      },
      "source": [
        "<a href=\"https://colab.research.google.com/github/VARSHITH128/2110030128_AOOP_FLIGHT_RESERVATION/blob/main/for_loop.ipynb\" target=\"_parent\"><img src=\"https://colab.research.google.com/assets/colab-badge.svg\" alt=\"Open In Colab\"/></a>"
      ]
    },
    {
      "cell_type": "code",
      "execution_count": 1,
      "metadata": {
        "colab": {
          "base_uri": "https://localhost:8080/"
        },
        "id": "nprQ7nhBIxq7",
        "outputId": "9bf95d19-3b5a-4bae-8747-a05f12748992"
      },
      "outputs": [
        {
          "output_type": "stream",
          "name": "stdout",
          "text": [
            "Enter the no below 10:4\n",
            "0\n",
            "1\n",
            "2\n",
            "3\n"
          ]
        }
      ],
      "source": [
        "n= int(input(\"Enter the no below 10:\")) \n",
        "for i in range(n): \n",
        "    print(i)"
      ]
    },
    {
      "cell_type": "code",
      "source": [
        "a=int(input('enter the number:'))\n",
        "#b=input('enter the text:')\n",
        "for i in range(a):\n",
        "    print(i*3)"
      ],
      "metadata": {
        "colab": {
          "base_uri": "https://localhost:8080/"
        },
        "id": "njOx6IYJJNBZ",
        "outputId": "5a3422fa-5354-449f-8ac2-c00c7429e90e"
      },
      "execution_count": 2,
      "outputs": [
        {
          "output_type": "stream",
          "name": "stdout",
          "text": [
            "enter the number:3\n",
            "0\n",
            "3\n",
            "6\n"
          ]
        }
      ]
    },
    {
      "cell_type": "code",
      "source": [
        "a=int(input('enter the number:'))\n",
        "b=input('enter the text:')\n",
        "for i in range(a):\n",
        "    print((i)*b)"
      ],
      "metadata": {
        "colab": {
          "base_uri": "https://localhost:8080/"
        },
        "id": "YJME_FcxJT8G",
        "outputId": "229d015d-69db-4342-d686-e31d1de16187"
      },
      "execution_count": 4,
      "outputs": [
        {
          "output_type": "stream",
          "name": "stdout",
          "text": [
            "enter the number:10\n",
            "enter the text:asdfghjkl\n",
            "\n",
            "asdfghjkl\n",
            "asdfghjklasdfghjkl\n",
            "asdfghjklasdfghjklasdfghjkl\n",
            "asdfghjklasdfghjklasdfghjklasdfghjkl\n",
            "asdfghjklasdfghjklasdfghjklasdfghjklasdfghjkl\n",
            "asdfghjklasdfghjklasdfghjklasdfghjklasdfghjklasdfghjkl\n",
            "asdfghjklasdfghjklasdfghjklasdfghjklasdfghjklasdfghjklasdfghjkl\n",
            "asdfghjklasdfghjklasdfghjklasdfghjklasdfghjklasdfghjklasdfghjklasdfghjkl\n",
            "asdfghjklasdfghjklasdfghjklasdfghjklasdfghjklasdfghjklasdfghjklasdfghjklasdfghjkl\n"
          ]
        }
      ]
    },
    {
      "cell_type": "code",
      "source": [
        "n= int(input(\"Enter the no below 10:\")) \n",
        "name=input(\"enter the Character(s):\") \n",
        "for i in range(n): \n",
        "    print(\" \"*(n-i),name* (i+1))"
      ],
      "metadata": {
        "colab": {
          "base_uri": "https://localhost:8080/"
        },
        "id": "J9iOe_gDJgPW",
        "outputId": "d4814277-e768-4f8b-ac7b-f6da88a1ee81"
      },
      "execution_count": 6,
      "outputs": [
        {
          "output_type": "stream",
          "name": "stdout",
          "text": [
            "Enter the no below 10:5\n",
            "enter the Character(s):a\n",
            "      a\n",
            "     aa\n",
            "    aaa\n",
            "   aaaa\n",
            "  aaaaa\n"
          ]
        }
      ]
    },
    {
      "cell_type": "code",
      "source": [
        "n= int(input(\"Enter the no below 10:\")) \n",
        "name=input(\"enter the Character(s):\") \n",
        "for i in range(n): \n",
        "    print(\"  \"*(n-i),name* (2*i+1))"
      ],
      "metadata": {
        "colab": {
          "base_uri": "https://localhost:8080/"
        },
        "id": "w4uaIM-bJsi6",
        "outputId": "30de334b-a85f-4ed6-dfcc-d3dfb7fd0391"
      },
      "execution_count": 8,
      "outputs": [
        {
          "output_type": "stream",
          "name": "stdout",
          "text": [
            "Enter the no below 10:5\n",
            "enter the Character(s):hey\n",
            "           hey\n",
            "         heyheyhey\n",
            "       heyheyheyheyhey\n",
            "     heyheyheyheyheyheyhey\n",
            "   heyheyheyheyheyheyheyheyhey\n"
          ]
        }
      ]
    },
    {
      "cell_type": "code",
      "source": [
        "n=int(input(\"Enter no.of times = \"))\n",
        "x=str(input(\"Enter String = \"))\n",
        "for i in range(n):\n",
        "    for j in range(i+1):\n",
        "        print(x,end=\" \")\n",
        "    print(end=\"\\n\")"
      ],
      "metadata": {
        "colab": {
          "base_uri": "https://localhost:8080/"
        },
        "id": "M72uotcqJ4cd",
        "outputId": "44b56745-e960-4867-9895-6488f8918e71"
      },
      "execution_count": 9,
      "outputs": [
        {
          "output_type": "stream",
          "name": "stdout",
          "text": [
            "Enter no.of times = 4\n",
            "Enter String = hey\n",
            "hey \n",
            "hey hey \n",
            "hey hey hey \n",
            "hey hey hey hey \n"
          ]
        }
      ]
    },
    {
      "cell_type": "code",
      "source": [
        "a=int(input('enter the number:'))\n",
        "b=input('enter the text:')\n",
        "b=b+\" \"\n",
        "for i in range(a):\n",
        "    print((i+1)*b)"
      ],
      "metadata": {
        "colab": {
          "base_uri": "https://localhost:8080/"
        },
        "id": "WVV1mWwvJ-T9",
        "outputId": "6fa35e45-6fe9-4042-caca-fd051133d2ea"
      },
      "execution_count": 10,
      "outputs": [
        {
          "output_type": "stream",
          "name": "stdout",
          "text": [
            "enter the number:4\n",
            "enter the text:hi\n",
            "hi \n",
            "hi hi \n",
            "hi hi hi \n",
            "hi hi hi hi \n"
          ]
        }
      ]
    },
    {
      "cell_type": "code",
      "source": [
        "a=int(input('enter the number:'))\n",
        "b=input('enter the text:')\n",
        "for i in range(a):\n",
        "    print((i+1)*b)\n",
        "    print(end=\" \\n\")"
      ],
      "metadata": {
        "colab": {
          "base_uri": "https://localhost:8080/"
        },
        "id": "9IBGfbpnKD7j",
        "outputId": "c5cd42cc-05eb-4b37-a41e-d4750fedd5ec"
      },
      "execution_count": 11,
      "outputs": [
        {
          "output_type": "stream",
          "name": "stdout",
          "text": [
            "enter the number:4\n",
            "enter the text:you\n",
            "you\n",
            " \n",
            "youyou\n",
            " \n",
            "youyouyou\n",
            " \n",
            "youyouyouyou\n",
            " \n"
          ]
        }
      ]
    },
    {
      "cell_type": "code",
      "source": [
        "i1=int(input(\"Enter the no. \"))\n",
        "s=str(input(\"Enter symbol or name \"))\n",
        "for i in range(i1):\n",
        "    for j in range(i+1):\n",
        "        print(s,end=\" \")\n",
        "    print()"
      ],
      "metadata": {
        "colab": {
          "base_uri": "https://localhost:8080/"
        },
        "id": "Cmwa9WlMKL6c",
        "outputId": "dd92663a-3612-4d78-9b9f-1bc490fccb1e"
      },
      "execution_count": 12,
      "outputs": [
        {
          "output_type": "stream",
          "name": "stdout",
          "text": [
            "Enter the no. 6\n",
            "Enter symbol or name *\n",
            "* \n",
            "* * \n",
            "* * * \n",
            "* * * * \n",
            "* * * * * \n",
            "* * * * * * \n"
          ]
        }
      ]
    },
    {
      "cell_type": "code",
      "source": [
        "n=int(input(\"Enter no.of times = \"))\n",
        "x=str(input(\"Enter String = \"))\n",
        "b=\" \"\n",
        "for i in range(n):\n",
        "    print(int((n-i))*b,end=\"\")\n",
        "    for j in range(i+1):\n",
        "        print(x,end=\" \")\n",
        "    print(end=\"\\n\")"
      ],
      "metadata": {
        "colab": {
          "base_uri": "https://localhost:8080/"
        },
        "id": "Oi6FcAJIKTGr",
        "outputId": "59ea01c0-a62f-448c-c40d-4fadcc48d97a"
      },
      "execution_count": 13,
      "outputs": [
        {
          "output_type": "stream",
          "name": "stdout",
          "text": [
            "Enter no.of times = 5\n",
            "Enter String = why\n",
            "     why \n",
            "    why why \n",
            "   why why why \n",
            "  why why why why \n",
            " why why why why why \n"
          ]
        }
      ]
    },
    {
      "cell_type": "code",
      "source": [
        "n=int(input(\"Enter the no. \"))\n",
        "s=input(\"Enter symbol or name \")\n",
        "for i in range(n):\n",
        "    for j in range(n-1):\n",
        "        print(end=\" \")\n",
        "    for k in range(i+1):\n",
        "        print(s,end=\" \")\n",
        "    n=n-1\n",
        "    print()"
      ],
      "metadata": {
        "colab": {
          "base_uri": "https://localhost:8080/"
        },
        "id": "Lt6ZmzOTKZ_3",
        "outputId": "d4a192c7-7976-4f99-d89f-d8305f9c80bf"
      },
      "execution_count": 14,
      "outputs": [
        {
          "output_type": "stream",
          "name": "stdout",
          "text": [
            "Enter the no. 6\n",
            "Enter symbol or name +\n",
            "     + \n",
            "    + + \n",
            "   + + + \n",
            "  + + + + \n",
            " + + + + + \n",
            "+ + + + + + \n"
          ]
        }
      ]
    },
    {
      "cell_type": "code",
      "source": [
        "n=int(input(\"Enter the no. \"))\n",
        "s=input(\"Enter symbol or name \")\n",
        "for i in range(n):\n",
        "    for j in range(n-1):\n",
        "        print(end=\" \"*len(s))\n",
        "    for k in range(i+1):\n",
        "        print(s,end=\" \"*len(s))\n",
        "    n=n-1\n",
        "    print()"
      ],
      "metadata": {
        "colab": {
          "base_uri": "https://localhost:8080/"
        },
        "id": "ZbtBzhiBKgUd",
        "outputId": "e2f24bda-9d5b-4676-d3cf-0465d77a39e0"
      },
      "execution_count": 15,
      "outputs": [
        {
          "output_type": "stream",
          "name": "stdout",
          "text": [
            "Enter the no. 7\n",
            "Enter symbol or name +_h\n",
            "                  +_h   \n",
            "               +_h   +_h   \n",
            "            +_h   +_h   +_h   \n",
            "         +_h   +_h   +_h   +_h   \n",
            "      +_h   +_h   +_h   +_h   +_h   \n",
            "   +_h   +_h   +_h   +_h   +_h   +_h   \n",
            "+_h   +_h   +_h   +_h   +_h   +_h   +_h   \n"
          ]
        }
      ]
    },
    {
      "cell_type": "code",
      "source": [
        "n = int(input(\"Enter the no.:\"))\n",
        "name = input(\"enter the name:\")\n",
        "for i in range(n):\n",
        "    for j in range(n-i-1):\n",
        "        print(\" \"*len(name), end = \" \")\n",
        "        for j in range(i+1):\n",
        "            print(name,\" \"*len(name), end = \" \")\n",
        "        print()"
      ],
      "metadata": {
        "colab": {
          "base_uri": "https://localhost:8080/"
        },
        "id": "nm_Hg2hEKpeW",
        "outputId": "8cefd4c6-2210-4d39-d512-e96495392ca3"
      },
      "execution_count": 16,
      "outputs": [
        {
          "output_type": "stream",
          "name": "stdout",
          "text": [
            "Enter the no.:5\n",
            "enter the name:var\n",
            "    var     \n",
            "    var     \n",
            "    var     \n",
            "    var     \n",
            "    var     var     \n",
            "    var     var     \n",
            "    var     var     \n",
            "    var     var     var     \n",
            "    var     var     var     \n",
            "    var     var     var     var     \n"
          ]
        }
      ]
    }
  ]
}